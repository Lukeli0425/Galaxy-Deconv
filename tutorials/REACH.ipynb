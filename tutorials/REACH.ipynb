{
 "cells": [
  {
   "cell_type": "markdown",
   "metadata": {},
   "source": [
    "# Galaxy Image Deconvolution\n",
    "\n",
    "In this project, we are going to play with a very common task in astronomical image processing - **image deconvolution**. Due to nonideal effects of the atmosphere and telescope optics, the images captured by telescopes suffer from blurs, which can be described by the **point spread function (PSF)** of telescope. Removing those blurs is very crucial for astronomers to precisely uncover knowledge of the universe."
   ]
  },
  {
   "cell_type": "markdown",
   "metadata": {},
   "source": [
    "### Preparations"
   ]
  },
  {
   "cell_type": "markdown",
   "metadata": {},
   "source": [
    "Download and import the packages we need in this project."
   ]
  },
  {
   "cell_type": "code",
   "execution_count": 15,
   "metadata": {},
   "outputs": [
    {
     "name": "stdout",
     "output_type": "stream",
     "text": [
      "Requirement already satisfied: numpy in /opt/homebrew/Caskroom/miniforge/base/envs/astro/lib/python3.11/site-packages (1.26.4)\n",
      "Requirement already satisfied: matplotlib in /opt/homebrew/Caskroom/miniforge/base/envs/astro/lib/python3.11/site-packages (3.8.4)\n",
      "Requirement already satisfied: scikit-image in /opt/homebrew/Caskroom/miniforge/base/envs/astro/lib/python3.11/site-packages (0.23.2)\n",
      "Requirement already satisfied: contourpy>=1.0.1 in /opt/homebrew/Caskroom/miniforge/base/envs/astro/lib/python3.11/site-packages (from matplotlib) (1.2.1)\n",
      "Requirement already satisfied: cycler>=0.10 in /opt/homebrew/Caskroom/miniforge/base/envs/astro/lib/python3.11/site-packages (from matplotlib) (0.12.1)\n",
      "Requirement already satisfied: fonttools>=4.22.0 in /opt/homebrew/Caskroom/miniforge/base/envs/astro/lib/python3.11/site-packages (from matplotlib) (4.53.0)\n",
      "Requirement already satisfied: kiwisolver>=1.3.1 in /opt/homebrew/Caskroom/miniforge/base/envs/astro/lib/python3.11/site-packages (from matplotlib) (1.4.5)\n",
      "Requirement already satisfied: packaging>=20.0 in /opt/homebrew/Caskroom/miniforge/base/envs/astro/lib/python3.11/site-packages (from matplotlib) (24.0)\n",
      "Requirement already satisfied: pillow>=8 in /opt/homebrew/Caskroom/miniforge/base/envs/astro/lib/python3.11/site-packages (from matplotlib) (10.3.0)\n",
      "Requirement already satisfied: pyparsing>=2.3.1 in /opt/homebrew/Caskroom/miniforge/base/envs/astro/lib/python3.11/site-packages (from matplotlib) (3.1.2)\n",
      "Requirement already satisfied: python-dateutil>=2.7 in /opt/homebrew/Caskroom/miniforge/base/envs/astro/lib/python3.11/site-packages (from matplotlib) (2.9.0)\n",
      "Requirement already satisfied: scipy>=1.9 in /opt/homebrew/Caskroom/miniforge/base/envs/astro/lib/python3.11/site-packages (from scikit-image) (1.13.1)\n",
      "Requirement already satisfied: networkx>=2.8 in /opt/homebrew/Caskroom/miniforge/base/envs/astro/lib/python3.11/site-packages (from scikit-image) (3.3)\n",
      "Requirement already satisfied: imageio>=2.33 in /opt/homebrew/Caskroom/miniforge/base/envs/astro/lib/python3.11/site-packages (from scikit-image) (2.34.1)\n",
      "Requirement already satisfied: tifffile>=2022.8.12 in /opt/homebrew/Caskroom/miniforge/base/envs/astro/lib/python3.11/site-packages (from scikit-image) (2024.5.22)\n",
      "Requirement already satisfied: lazy-loader>=0.4 in /opt/homebrew/Caskroom/miniforge/base/envs/astro/lib/python3.11/site-packages (from scikit-image) (0.4)\n",
      "Requirement already satisfied: six>=1.5 in /opt/homebrew/Caskroom/miniforge/base/envs/astro/lib/python3.11/site-packages (from python-dateutil>=2.7->matplotlib) (1.16.0)\n"
     ]
    }
   ],
   "source": [
    "# %pip install numpy matplotlib scikit-image\n",
    "\n",
    "import numpy as np\n",
    "import matplotlib.pyplot as plt\n",
    "from numpy.fft import fft2, ifft2, fftshift, ifftshift\n",
    "from skimage.metrics import structural_similarity as ssim\n",
    "from skimage.metrics import peak_signal_noise_ratio as psnr"
   ]
  },
  {
   "cell_type": "markdown",
   "metadata": {},
   "source": [
    "Download the files we need in this project."
   ]
  },
  {
   "cell_type": "code",
   "execution_count": 14,
   "metadata": {},
   "outputs": [
    {
     "name": "stdout",
     "output_type": "stream",
     "text": [
      "zsh:1: command not found: wget\n",
      "zsh:1: command not found: wget\n"
     ]
    }
   ],
   "source": [
    "!wget https://raw.githubusercontent.com/Lukeli0425/Galaxy-Deconv/main/tutorials/galaxy.npy\n",
    "!wget https://raw.githubusercontent.com/Lukeli0425/Galaxy-Deconv/main/tutorials/psf.npy"
   ]
  },
  {
   "cell_type": "markdown",
   "metadata": {},
   "source": [
    "Load the clean galaxy image (without blur and noise) and point spread function (PSF) of the telescope. For simplicity, these images are proviede for you. If you are interested in how those images are simulated, you can check out [this notebook](https://github.com/Lukeli0425/Galaxy-Deconv/blob/main/tutorials/image_simulation.ipynb)."
   ]
  },
  {
   "cell_type": "code",
   "execution_count": null,
   "metadata": {},
   "outputs": [],
   "source": [
    "galaxy = np.load('galaxy.npy')\n",
    "psf = np.load('psf.npy')\n",
    "psf = psf / psf.sum() # Normalize the PSF.\n",
    "\n",
    "plt.figure(figsize=(8, 5))\n",
    "plt.subplot(1, 2, 1)\n",
    "plt.imshow(galaxy, cmap='magma')\n",
    "plt.title('Galaxy', fontsize=15)    \n",
    "\n",
    "plt.subplot(1, 2, 2)\n",
    "plt.imshow(psf, cmap='magma')\n",
    "plt.title('Point Spread Function', fontsize=15)    \n",
    "plt.tight_layout()"
   ]
  },
  {
   "cell_type": "markdown",
   "metadata": {},
   "source": [
    "### Forward Model\n",
    "\n",
    "In this part, we will simulate the forward model of the telescope. In other words, we will get what the galaxy will look like after passing through the telescope optics and the sensor. Usually we assume the PSF has very little change in a very small patch of area in the image, so we treat the PSF to be _shift invariant_ in the galaxy image. "
   ]
  },
  {
   "cell_type": "code",
   "execution_count": null,
   "metadata": {},
   "outputs": [],
   "source": [
    "def pad_double(img):\n",
    "    \"\"\"Pad the image with zeros to double its size.\n",
    "\n",
    "    Args:\n",
    "        img (`np.ndarray`): Input image.\n",
    "\n",
    "    Returns:\n",
    "        `np.ndarray`: Padded image.\n",
    "    \"\"\"\n",
    "    H, W = img.shape[-2], img.shape[-1]\n",
    "    return np.pad(img, ((W//2, W//2), (H//2, H//2)), 'constant', constant_values=(0, 0))\n",
    "\n",
    "def crop_half(img):\n",
    "    \"\"\"Crop the image to half its size.\n",
    "\n",
    "    Args:\n",
    "        img (`np.ndarray`): Input image.\n",
    "\n",
    "    Returns:\n",
    "        `np.ndarray`: Cropped image.\n",
    "    \"\"\"\n",
    "    H, W = img.shape\n",
    "    return img[H//4:3*H//4, W//4:3*W//4]\n",
    "\n",
    "def convolve(x, h):\n",
    "    \"\"\"Convolve two 2D images using FFT.\n",
    "\n",
    "    Args:\n",
    "        x (`np.ndarray`): _description_\n",
    "        h (`np.ndarray`): _description_\n",
    "\n",
    "    Returns:\n",
    "        `np.ndarray`: Convolved image.\n",
    "    \"\"\"\n",
    "    h, x = pad_double(h), pad_double(x)\n",
    "    y = fftshift(ifft2(fft2(ifftshift(h)) * fft2(ifftshift(x)))).real\n",
    "    return crop_half(y)"
   ]
  },
  {
   "cell_type": "markdown",
   "metadata": {},
   "source": [
    "Now we deinfe some telecope and CCD parameters we need to simulate an observed image."
   ]
  },
  {
   "cell_type": "code",
   "execution_count": null,
   "metadata": {},
   "outputs": [],
   "source": [
    "pixel_scale = 0.2                   # Pixel scale (aresec), determines the image resolution.\n",
    "exp_time = 30.                      # Exposure time (2*15 seconds).\n",
    "sky_brightness = 20.46              # Sky brightness (absolute magnitude) in i band.\n",
    "zero_point = 28.17                  # Instrumental zero point in i band, i.e. absolute magnitude that would produce one e- per second.\n",
    "gain = 2.3                          # CCD Gain (e-/ADU).\n",
    "qe = 0.94                           # CCD Quantum efficiency.\n",
    "read_noise = 8.8                    # Standrad deviation of Gaussain read noise (e-/pixel).\n",
    "dark_current = 0.2                  # Dark current (e-/pixel/second)."
   ]
  },
  {
   "cell_type": "markdown",
   "metadata": {},
   "source": []
  },
  {
   "cell_type": "code",
   "execution_count": null,
   "metadata": {},
   "outputs": [],
   "source": [
    "def get_flux(ab_magnitude, exp_time, zero_point, qe):\n",
    "    \"\"\"Calculate flux (e-/arcsec^2) from magnitude.\n",
    "\n",
    "    Args:\n",
    "        ab_magnitude (`float`): Absolute magnitude.\n",
    "        exp_time (`float`): Exposure time (s).\n",
    "        zero_point (`float`): Instrumental zero point, i.e. absolute magnitude that would produce one e- per second.\n",
    "        gain (`float`): CCD Gain (e-/ADU).\n",
    "        qe (`float`): CCD Quantum efficiency.\n",
    "\n",
    "    Returns:\n",
    "        `float`: Flux (e-/arcsec^2).\n",
    "    \"\"\"\n",
    "    ### TODO 1: Calculate flux. ###\n",
    "    return exp_time * 10**(-0.4*(ab_magnitude-zero_point)) * qe\n",
    "    ### End TODO 1 ###\n",
    "\n",
    "sky_level_pixel = (pixel_scale ** 2) * get_flux(ab_magnitude=sky_brightness, exp_time=exp_time, zero_point=zero_point, qe=qe)\n",
    "print('Sky level: {:.5g} e-'.format(sky_level_pixel))"
   ]
  },
  {
   "cell_type": "markdown",
   "metadata": {},
   "source": [
    "Now we scale the flux of the galaxy according to given SNRs. We used the same SNR defination as the [GREAT3 Handbook](https://iopscience.iop.org/article/10.1088/0067-0049/212/1/5/meta). The variance $V$ at each pixel is treated to be the same, because the the sky level is often high enough that its Poisson noise is essentially Gaussian corresponding to a single constant variance and a mean of zero. So the variance at each pixel $V$ is the sum of Poisson shot noise $I_0$ from the sky level, Poisson shot noise $I_d$ from the dark current, and the Gaussian read noise $\\sigma_r^2$.\n",
    "\n",
    "$\\begin{equation}\n",
    "SNR = \\sqrt{\\frac{\\Sigma G(i,j)^2}{\\sigma^2}} = \\sqrt{\\frac{\\Sigma G(i,j)^2}{I_0 + I_d + 2*\\sigma_r^2}}\n",
    "\\end{equation}$\n",
    "\n",
    "The reason there's a factor of 2 in front of the read noise $\\sigma_r^2$ is LSST takes two 15s exporures instead of a single 30s exposure, so there are two readouts in one image."
   ]
  },
  {
   "cell_type": "markdown",
   "metadata": {},
   "source": []
  },
  {
   "cell_type": "code",
   "execution_count": null,
   "metadata": {},
   "outputs": [],
   "source": [
    "def get_LSST_noise(sky_level_pixel, dark_current, exp_time, read_noise):\n",
    "    \"\"\"Calculate the noise in LSST images.\n",
    "\n",
    "    Args:\n",
    "        sky_level_pixel (`float`): Sky level (e-/pixel).\n",
    "        dark_current (`float`): Dark current (e-/pixel/second).\n",
    "        exp_time (`float`): Total exposure time (s).\n",
    "        read_noise (`float`): CCD read noise (e-).\n",
    "\n",
    "    Returns:\n",
    "        `float`: Standard deviation of the noise (e-/pixel).\n",
    "    \"\"\"\n",
    "    ### TODO 2: Calculate the noise in LSST images. ###\n",
    "    return np.sqrt(sky_level_pixel * (pixel_scale**2) + dark_current*exp_time + 2 * read_noise ** 2)\n",
    "    ### End TODO 2 ###\n",
    "\n",
    "sigma = get_LSST_noise(sky_level_pixel, dark_current, exp_time, read_noise)\n",
    "print('sigma: {:.4g} e-'.format(sigma))"
   ]
  },
  {
   "cell_type": "markdown",
   "metadata": {},
   "source": [
    "Now we can scale the galaxy images according using noise level we just obtained. Then we can convolve the galaxy with the PSF and add noise to simulate and observed galaxy image. "
   ]
  },
  {
   "cell_type": "code",
   "execution_count": null,
   "metadata": {},
   "outputs": [],
   "source": [
    "snr_list = [20, 50, 100, 200, 300]\n",
    "obs_list, gt_list = [], []\n",
    "\n",
    "for snr in snr_list:\n",
    "    ### TODO 3: Calculate the scaling factor to meet SNR requirement. ###\n",
    "    alpha = snr * sigma / np.sqrt((galaxy**2).sum())\n",
    "    ### End TODO 3 ###\n",
    "    x = galaxy * alpha / gain # Scale the flux of galaxy and covert to ADU.\n",
    "    \n",
    "    ### TODO 4: Concolve the scaled galaxy image with PSF< and then add i.i.d. Gaussian noise ###\n",
    "    n = np.random.normal(0, sigma, x.shape)\n",
    "    y = convolve(x, psf) + n\n",
    "    ### End TODO 4 ###\n",
    "    \n",
    "    gt_list.append(x)\n",
    "    obs_list.append(y)"
   ]
  },
  {
   "cell_type": "markdown",
   "metadata": {},
   "source": [
    "### Deconvolution\n",
    "\n",
    "In the final part, you will implement two classic deconvolution methods to remove the blur caused by PSFs. These methods are [Wiener Filtering ](https://en.wikipedia.org/wiki/Wiener_deconvolution) and [Richardson-Lucy](https://en.wikipedia.org/wiki/Richardson–Lucy_deconvolution), which are both classic and widely used in astronomical image processing. You don't need to learn the two methods to complete this part, this notebook will guide you to implement them."
   ]
  },
  {
   "cell_type": "markdown",
   "metadata": {},
   "source": [
    "**[Wiener Filtering ](https://en.wikipedia.org/wiki/Wiener_deconvolution)** deconvolves the image using a one-step filtering in Fourier space:\n",
    "$\\begin{equation} X(f) = \\frac{H^*(f) Y(f)}{\\vert H(f)\\vert^2 + \\lambda}, \\end{equation}$\n",
    "where $Y(f),X(f),H(f)$ are the 2-D Fourier transform of the blurry image, clean image, and PSF, and $\\lambda$ is the regularization parameter."
   ]
  },
  {
   "cell_type": "code",
   "execution_count": null,
   "metadata": {},
   "outputs": [],
   "source": [
    "def wiener(y, h, lam=0.1):\n",
    "    \"\"\"Wiener Deconvolution.\n",
    "\n",
    "    Args:\n",
    "        y (`np.ndarray`): Input blurry image.\n",
    "        h (`np.ndarray`): Blur kernel (point spread function).\n",
    "        lam (`float`, optional): Regularization parameter. Defaults to 0.1.\n",
    "    \"\"\"\n",
    "    H = fft2(ifftshift(h))\n",
    "    H_star = H.conj()\n",
    "    ### TODO 5: Complete Wiener Deconvolution. ###\n",
    "    numerator = H_star * fft2(ifftshift(y))\n",
    "    divisor = np.abs(H)**2 + lam\n",
    "    ### ENd TODO 5 ###\n",
    "    x = fftshift(ifft2(numerator/divisor)).real\n",
    "    return x"
   ]
  },
  {
   "cell_type": "code",
   "execution_count": null,
   "metadata": {},
   "outputs": [],
   "source": [
    "lam_list = [0.05, 0.1, 0.5] # Change to compare different regularization parameters.\n",
    "\n",
    "fig = plt.figure(figsize=(14, 14))\n",
    "for idx, (x, y, snr) in enumerate(zip(gt_list, obs_list, snr_list)):\n",
    "    ax1 = plt.subplot(5,5,5*idx+1)\n",
    "    plt.imshow(y, cmap='magma')\n",
    "    plt.ylabel(f'SNR = {snr}', fontsize=14)\n",
    "    if idx == 4:\n",
    "        cax = fig.add_axes([ax1.get_position().x1+6e-3, ax1.get_position().y0, 7e-3, ax1.get_position().height])\n",
    "        cb = plt.colorbar(cax=cax)\n",
    "        cb.set_label('Flux (ADU)', fontsize=14)\n",
    "    ax1.set_xticks([])\n",
    "    ax1.set_yticks([])\n",
    "    if idx == 0:\n",
    "        plt.title('Observed Galaxy', fontsize=15)\n",
    "        \n",
    "    for i, lam in enumerate(lam_list):\n",
    "        ax2 = plt.subplot(5,5,5*idx+i+2)\n",
    "        plt.imshow(wiener(y, psf, lam), cmap='magma')\n",
    "        # cax = fig.add_axes([ax2.get_position().x1+6e-3, ax2.get_position().y0, 7e-3, ax2.get_position().height])\n",
    "        # cb = plt.colorbar(cax=cax)\n",
    "        # cb.set_label('Flux (ADU)', fontsize=14)\n",
    "        ax2.set_xticks([])\n",
    "        ax2.set_yticks([])\n",
    "        if idx == 0:\n",
    "            plt.title('Wiener ($\\lambda=${:.1g})'.format(lam), fontsize=15)\n",
    "        \n",
    "        \n",
    "    ax4 = plt.subplot(5,5,5*idx+5)\n",
    "    plt.imshow(x, cmap='magma')\n",
    "    # cax = fig.add_axes([ax2.get_position().x1+6e-3, ax2.get_position().y0, 7e-3, ax2.get_position().height])\n",
    "    # cb = plt.colorbar(cax=cax)\n",
    "    # cb.set_label('Flux (ADU)', fontsize=14)\n",
    "    ax4.set_xticks([])\n",
    "    ax4.set_yticks([])\n",
    "    if idx == 0:\n",
    "        plt.title('Ground Truth', fontsize=15)"
   ]
  },
  {
   "cell_type": "markdown",
   "metadata": {},
   "source": [
    "[**Richardson-Lucy**](https://en.wikipedia.org/wiki/Richardson–Lucy_deconvolution) is an iterative algorithm that solves deconvolution problems under Poisson noise models. First, we initialize the solution with a non-negative image, for example, an all-one image:\n",
    "\n",
    "$\\begin{equation}\n",
    "\\mathbf{x}^0 = \\mathbf{1}.\n",
    "\\end{equation}$\n",
    "\n",
    "Then, we iteratively update $\\mathbf{x}$ using the following equation:\n",
    "$\\begin{equation}\n",
    "\\mathbf{x}^{k+1} = \\mathbf{x}^{k} \\cdot \\frac{H^T \\frac{\\mathbf{y}}{H\\mathbf{x^k}}}{H^T \\mathbf{1}}.\n",
    "\\end{equation}$"
   ]
  },
  {
   "cell_type": "code",
   "execution_count": null,
   "metadata": {},
   "outputs": [],
   "source": [
    "def richardson_lucy(y, h, sky_level_pixel, n_iter=50):\n",
    "    \"\"\"Richardson-Lucy Deconvolution.\n",
    "\n",
    "    Args:\n",
    "        y (`np.ndarray`): Input blurry image.\n",
    "        h (`np.ndarray`): Blur kernel (point spread function).\n",
    "        n_iter (`int`, optional): number of iterations. Defaults to 10.\n",
    "    \"\"\"\n",
    "    y = y + sky_level_pixel\n",
    "    ones = np.ones_like(y)\n",
    "    H = fft2(ifftshift(h))\n",
    "    x = np.ones_like(y) # Initial guess\n",
    "    for _ in range(n_iter):\n",
    "        Hx = fftshift(ifft2(H * fft2(ifftshift(x)))).real\n",
    "        numerator = fftshift(ifft2(H.conj() * fft2(ifftshift(y/Hx)))).real\n",
    "        divisor = fftshift(ifft2(H.conj() * fft2(ifftshift(ones)))).real\n",
    "        ### TODO 6: Complete Richardson-Lucy update. ###\n",
    "        x = x * numerator / divisor\n",
    "        ### End TODO 6 ###\n",
    "    return x - sky_level_pixel"
   ]
  },
  {
   "cell_type": "markdown",
   "metadata": {},
   "source": [
    "Finally, we can test these two methods on the images we simulated. You can play with the parameters used in both methods to see what impact they have on the image quality. Briefly write down your findings here:\n",
    "\n",
    "**[Your Answer Here]**"
   ]
  },
  {
   "cell_type": "code",
   "execution_count": null,
   "metadata": {},
   "outputs": [],
   "source": [
    "fig = plt.figure(figsize=(14, 17))\n",
    "for idx, (x, y, snr) in enumerate(zip(gt_list, obs_list, snr_list)):\n",
    "    ax1 = plt.subplot(5,4,idx*4+1)\n",
    "    plt.imshow(y, cmap='magma')\n",
    "    plt.ylabel(f'SNR = {snr}', fontsize=14)\n",
    "    if idx == 4:\n",
    "        cax = fig.add_axes([ax1.get_position().x1+6e-3, ax1.get_position().y0, 7e-3, ax1.get_position().height])\n",
    "        cb = plt.colorbar(cax=cax)\n",
    "        cb.set_label('Flux (ADU)', fontsize=14)\n",
    "    ax1.set_xticks([])\n",
    "    ax1.set_yticks([])\n",
    "    if idx == 0:\n",
    "        plt.title('Observed Galaxy', fontsize=15)\n",
    "        \n",
    "    \n",
    "    ax2 = plt.subplot(5,4,idx*4+2)\n",
    "    plt.imshow(wiener(y, psf, 0.1), cmap='magma')\n",
    "    # ax2.set_title(f'SNR = {snr}', fontsize=14)\n",
    "    # cax = fig.add_axes([ax2.get_position().x1+6e-3, ax2.get_position().y0, 7e-3, ax2.get_position().height])\n",
    "    # cb = plt.colorbar(cax=cax)\n",
    "    # cb.set_label('Flux (ADU)', fontsize=14)\n",
    "    ax2.set_xticks([])\n",
    "    ax2.set_yticks([])\n",
    "    if idx == 0:\n",
    "        plt.title('Wiener', fontsize=15)\n",
    "        \n",
    "    ax3 = plt.subplot(5,4,idx*4+3)\n",
    "    plt.imshow(richardson_lucy(y, psf, sky_level_pixel, 20), cmap='magma')\n",
    "    # ax2.set_title(f'SNR = {snr}', fontsize=14)\n",
    "    # cax = fig.add_axes([ax2.get_position().x1+6e-3, ax2.get_position().y0, 7e-3, ax2.get_position().height])\n",
    "    # cb = plt.colorbar(cax=cax)\n",
    "    # cb.set_label('Flux (ADU)', fontsize=14)\n",
    "    ax3.set_xticks([])\n",
    "    ax3.set_yticks([])\n",
    "    if idx == 0:\n",
    "        plt.title('Richardson-Lucy', fontsize=15)\n",
    "        \n",
    "    ax4 = plt.subplot(5,4,idx*4+4)\n",
    "    plt.imshow(x, cmap='magma')\n",
    "    # ax2.set_title(f'SNR = {snr}', fontsize=14)\n",
    "    # cax = fig.add_axes([ax2.get_position().x1+6e-3, ax2.get_position().y0, 7e-3, ax2.get_position().height])\n",
    "    # cb = plt.colorbar(cax=cax)\n",
    "    # cb.set_label('Flux (ADU)', fontsize=14)\n",
    "    ax4.set_xticks([])\n",
    "    ax4.set_yticks([])\n",
    "    if idx == 0:\n",
    "        plt.title('Ground Truth', fontsize=15)"
   ]
  },
  {
   "cell_type": "code",
   "execution_count": null,
   "metadata": {},
   "outputs": [],
   "source": []
  }
 ],
 "metadata": {
  "kernelspec": {
   "display_name": "astro",
   "language": "python",
   "name": "python3"
  },
  "language_info": {
   "codemirror_mode": {
    "name": "ipython",
    "version": 3
   },
   "file_extension": ".py",
   "mimetype": "text/x-python",
   "name": "python",
   "nbconvert_exporter": "python",
   "pygments_lexer": "ipython3",
   "version": "3.11.9"
  }
 },
 "nbformat": 4,
 "nbformat_minor": 2
}
