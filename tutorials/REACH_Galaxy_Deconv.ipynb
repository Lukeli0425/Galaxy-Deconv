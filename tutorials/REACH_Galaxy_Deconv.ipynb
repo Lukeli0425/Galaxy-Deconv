{
 "cells": [
  {
   "cell_type": "markdown",
   "metadata": {},
   "source": [
    "## Galaxy Image Deconvolution\n",
    "\n",
    "In this notebook, we will play with a prevalent task in astronomical image processing - **image deconvolution**. Due to the nonideal effects of the atmosphere and telescope optics, images captured by telescopes suffer from blurs, which are characterized by the [**point spread function (PSF)**](https://en.wikipedia.org/wiki/Point_spread_function) of the telescope. Removing those blurs is crucial for astronomers to uncover knowledge of the universe precisely. Since the blurring effect can be mathematically modeled by a 2D [convolution](https://en.wikipedia.org/wiki/Convolution) with the PSF, removing those blurs is called [**deconvolution**](https://en.wikipedia.org/wiki/Deconvolution)."
   ]
  },
  {
   "cell_type": "markdown",
   "metadata": {},
   "source": [
    "### Preparations"
   ]
  },
  {
   "cell_type": "markdown",
   "metadata": {},
   "source": [
    "Download and import the required packages."
   ]
  },
  {
   "cell_type": "code",
   "execution_count": null,
   "metadata": {},
   "outputs": [],
   "source": [
    "# %pip install numpy matplotlib scikit-image\n",
    "\n",
    "import numpy as np\n",
    "import matplotlib.pyplot as plt\n",
    "from matplotlib.colors import Normalize\n",
    "from numpy.fft import fft2, ifft2, fftshift, ifftshift\n",
    "from skimage.metrics import structural_similarity as ssim\n",
    "from skimage.metrics import peak_signal_noise_ratio as psnr"
   ]
  },
  {
   "cell_type": "markdown",
   "metadata": {},
   "source": [
    "Download the files we need in this project."
   ]
  },
  {
   "cell_type": "code",
   "execution_count": null,
   "metadata": {},
   "outputs": [],
   "source": [
    "# !wget https://raw.githubusercontent.com/Lukeli0425/Galaxy-Deconv/main/tutorials/galaxy.npy\n",
    "# !wget https://raw.githubusercontent.com/Lukeli0425/Galaxy-Deconv/main/tutorials/psf.npy"
   ]
  },
  {
   "cell_type": "markdown",
   "metadata": {},
   "source": [
    "Load the _clean_ galaxy image (without blur and noise) and the point spread function (PSF) of the telescope. For simplicity, these images are provided for you. If you want to learn more about how to simulate these images, check out [this notebook](https://github.com/Lukeli0425/Galaxy-Deconv/blob/main/tutorials/image_simulation.ipynb)."
   ]
  },
  {
   "cell_type": "code",
   "execution_count": null,
   "metadata": {},
   "outputs": [],
   "source": [
    "galaxy = np.load('galaxy.npy')\n",
    "psf = np.load('psf.npy')\n",
    "\n",
    "# Normalize to a flux of 1.\n",
    "galaxy = galaxy / galaxy.sum()\n",
    "psf = psf / psf.sum() "
   ]
  },
  {
   "cell_type": "markdown",
   "metadata": {},
   "source": [
    "Now let's take a look at the galaxy and the PSF. They are all 48*48 images with a total flux of 1."
   ]
  },
  {
   "cell_type": "code",
   "execution_count": null,
   "metadata": {},
   "outputs": [],
   "source": [
    "fig = plt.figure(figsize=(12.5, 5))\n",
    "ax = plt.subplot(1, 2, 1)\n",
    "norm = Normalize(vmin=0, vmax=0.02)\n",
    "plt.imshow(galaxy, cmap='magma', norm=norm)\n",
    "plt.title('Galaxy', fontsize=16)    \n",
    "cax = fig.add_axes([ax.get_position().x1+0.015, ax.get_position().y0, 0.018, ax.get_position().height])\n",
    "cb = plt.colorbar(cax=cax, norm=norm)\n",
    "\n",
    "ax = plt.subplot(1, 2, 2)\n",
    "norm = Normalize(vmin=0, vmax=0.04)\n",
    "plt.imshow(psf, cmap='magma', norm=norm)\n",
    "plt.title('Point Spread Function', fontsize=16)  \n",
    "cax = fig.add_axes([ax.get_position().x1+0.015, ax.get_position().y0, 0.018, ax.get_position().height])\n",
    "cb = plt.colorbar(cax=cax, norm=norm)"
   ]
  },
  {
   "cell_type": "markdown",
   "metadata": {},
   "source": [
    "### Forward Model\n",
    "\n",
    "In this part, we will simulate the imaging forward model of the telescope. In other words, we will generate galaxy images after collected by the telescope optics and the sensor. Usually, we assume the PSF has very little change across a very small image patch, so we treat the PSF to be _shift invariant_ in the images. \n",
    "\n",
    "To efficiently conduct convolution and deconvolution, the common practice is to transform both the images and the PSF to the Fourier space using [Fast Fourier Transform (FFT)](https://en.wikipedia.org/wiki/Fast_Fourier_transform). Throughout this notebook, all FFTs are already written for you. The `convolve()` function below performs 2D convolution using FFT. You don't need to change it."
   ]
  },
  {
   "cell_type": "code",
   "execution_count": null,
   "metadata": {},
   "outputs": [],
   "source": [
    "def pad_double(img):\n",
    "    \"\"\"Pad the image with zeros to double its size.\n",
    "\n",
    "    Args:\n",
    "        img (`np.ndarray`): Input image.\n",
    "\n",
    "    Returns:\n",
    "        `np.ndarray`: Padded image.\n",
    "    \"\"\"\n",
    "    H, W = img.shape[-2], img.shape[-1]\n",
    "    return np.pad(img, ((W//2, W//2), (H//2, H//2)), 'constant', constant_values=(0, 0))\n",
    "\n",
    "def crop_half(img):\n",
    "    \"\"\"Crop the image to half of its size.\n",
    "\n",
    "    Args:\n",
    "        img (`np.ndarray`): Input image.\n",
    "\n",
    "    Returns:\n",
    "        `np.ndarray`: Cropped image.\n",
    "    \"\"\"\n",
    "    H, W = img.shape\n",
    "    return img[H//4:3*H//4, W//4:3*W//4]\n",
    "\n",
    "def convolve(x, h):\n",
    "    \"\"\"Convolve two 2D images using FFT.\n",
    "\n",
    "    Args:\n",
    "        x (`np.ndarray`): Input image 1.\n",
    "        h (`np.ndarray`): Input image 2.\n",
    "\n",
    "    Returns:\n",
    "        `np.ndarray`: Convolved image.\n",
    "    \"\"\"\n",
    "    h, x = pad_double(h), pad_double(x)\n",
    "    y = fftshift(ifft2(fft2(ifftshift(h)) * fft2(ifftshift(x)))).real\n",
    "    return crop_half(y)"
   ]
  },
  {
   "cell_type": "markdown",
   "metadata": {},
   "source": [
    "The first step is to calculate the noise level and add the right amount of noise to the image. To do so, let's first define some telescope and CCD parameters. These parameters are chosen from an upcoming sky survey, the [Legacy Survey of Space and Time (LSST)](https://rubinobservatory.org). The facility used in this survey is the _Vera C. Rubin Observatory_ in Northern Chile. Since this is a ground-based survey, there are both optical and atmospheric components in the PSF."
   ]
  },
  {
   "cell_type": "code",
   "execution_count": null,
   "metadata": {},
   "outputs": [],
   "source": [
    "pixel_scale = 0.2                   # Pixel scale (aresec), determines the image resolution.\n",
    "exp_time = 30.                      # Exposure time (2*15 seconds).\n",
    "sky_brightness = 20.46              # Sky brightness (absolute magnitude) in i band.\n",
    "zero_point = 28.17                  # Instrumental zero point in i band, i.e. absolute magnitude that would produce one e- per second.\n",
    "qe = 0.94                           # CCD Quantum efficiency.\n",
    "read_noise = 8.8                    # Standrad deviation of Gaussain read noise (e-/pixel).\n",
    "dark_current = 0.2                  # Dark current (e-/pixel/second)."
   ]
  },
  {
   "cell_type": "markdown",
   "metadata": {},
   "source": [
    "The dominant component of CCD noise is the Poisson shot noise coming from the sky background. In this part, you will calculate the flux of the sky background using this relation\n",
    "$\\begin{equation}\n",
    "    F = t_{exp} \\cdot 10^{-0.4(M_{ab}-M_0)*\\eta_{qe}},\n",
    "\\end{equation}$\n",
    "where $t_{exp}$ is the exposure time, $M_{ab}$ is the [absolute magnitude](https://en.wikipedia.org/wiki/Absolute_magnitude) of the sky background, $M_0$ is the [zero point](https://en.wikipedia.org/wiki/Zero_point_(photometry)) of the instrument (the absolute magnitude that would produce one e- per second in the CCD), $\\eta_{qe}$ is the [quantum efficiency](https://en.wikipedia.org/wiki/Quantum_efficiency) (the number of electrons produced by one photon) of the CCD.\n",
    "\n",
    "__TODO 1: Complete the function `get_flux()`.__"
   ]
  },
  {
   "cell_type": "code",
   "execution_count": null,
   "metadata": {},
   "outputs": [],
   "source": [
    "def get_flux(exp_time, ab_magnitude, zero_point, qe):\n",
    "    \"\"\"Calculate flux (e-/arcsec^2) from magnitude.\n",
    "\n",
    "    Args:\n",
    "        exp_time (`float`): Exposure time (s).\n",
    "        ab_magnitude (`float`): Absolute magnitude.\n",
    "        zero_point (`float`): Instrumental zero point, i.e. absolute magnitude that would produce one e- per second.\n",
    "        qe (`float`): CCD Quantum efficiency.\n",
    "\n",
    "    Returns:\n",
    "        `float`: Flux (e-/arcsec^2).\n",
    "    \"\"\"\n",
    "    ### TODO 1: Calculate flux. ###\n",
    "    return None\n",
    "    ### End TODO 1 ###\n",
    "\n",
    "# Calculate the per pixel sky level (e-/pixel).\n",
    "sky_level_pixel = (pixel_scale ** 2) * get_flux(ab_magnitude=sky_brightness, exp_time=exp_time, zero_point=zero_point, qe=qe)\n",
    "print('Sky level per pixel: {:.5g} e-'.format(sky_level_pixel))"
   ]
  },
  {
   "cell_type": "markdown",
   "metadata": {},
   "source": [
    "Now we scale the flux of the galaxy according to the desired SNRs. We follow the [signal-to-noise ratio (SNR)](https://en.wikipedia.org/wiki/Signal-to-noise_ratio) definition in the [GREAT3 Challenge](https://iopscience.iop.org/article/10.1088/0067-0049/212/1/5/meta)\n",
    "$\\begin{equation}\n",
    "SNR = \\sqrt{\\frac{\\sum G(i,j)^2}{\\sigma^2}},\n",
    "\\end{equation}$\n",
    "where $\\sigma^2$ is the variance of total noise at each pixel, G(i,j) is the light profile of the galaxy.\n",
    "\n",
    "The variance $\\sigma^2$ at each pixel is treated to be the same because the sky level is often high enough that its Poisson shot noise is essentially a Gaussian with a single constant variance and a mean of zero. The variance of total noise $\\sigma^2$ is the sum of Poisson shot noise $I_0$ from the sky background, Poisson shot noise $I_d * t_{exp}$ from the dark current, and the Gaussian read noise $\\sigma_r^2$.\n",
    "\n",
    "$\\begin{equation}\n",
    "\\sigma^2 = I_0 + I_d * t_{exp} + 2*\\sigma_r^2.\n",
    "\\end{equation}$\n",
    "\n",
    "There's a factor of 2 in front of the read noise $\\sigma_r^2$ because LSST takes two 15s exposures instead of a single 30s exposure, i.e. there are two readouts in one image."
   ]
  },
  {
   "cell_type": "markdown",
   "metadata": {},
   "source": [
    "__TODO 2: Complete the function `get_total_noise()` using the relation above. You might need `np.sqrt()`.__"
   ]
  },
  {
   "cell_type": "code",
   "execution_count": null,
   "metadata": {},
   "outputs": [],
   "source": [
    "def get_total_noise(sky_level_pixel, dark_current, exp_time, read_noise):\n",
    "    \"\"\"Calculate the noise in LSST images.\n",
    "\n",
    "    Args:\n",
    "        sky_level_pixel (`float`): Sky background level (e-/pixel).\n",
    "        dark_current (`float`): Dark current (e-/pixel/second).\n",
    "        exp_time (`float`): Total exposure time (s).\n",
    "        read_noise (`float`): Standard deviation of CCD read noise (e-).\n",
    "\n",
    "    Returns:\n",
    "        `float`: Standard deviation of total noise (e-/pixel).\n",
    "    \"\"\"\n",
    "    ### TODO 2: Calculate the noise in LSST images. ###\n",
    "    return None\n",
    "    ### End TODO 2 ###\n",
    "\n",
    "sigma = get_total_noise(sky_level_pixel, dark_current, exp_time, read_noise)\n",
    "print('sigma: {:.4g} e-'.format(sigma))"
   ]
  },
  {
   "cell_type": "markdown",
   "metadata": {},
   "source": [
    "Now, we can scale the galaxy images using the noise level we just obtained to make sure that the images we simulate have the desired SNR: \n",
    "$\\begin{equation}\n",
    " G(i,j) = G(i,j) \\cdot \\frac{SNR \\cdot \\sigma}{\\sqrt{\\sum G(i,j)^2}}.\n",
    "\\end{equation}$\n",
    "Here, the scaling factor $\\alpha = \\frac{SNR \\cdot \\sigma}{\\sqrt{\\sum G(i,j)^2}}$.\n",
    "\n",
    "Then, we can convolve the galaxy with the PSF and add noise to simulate the observed galaxy image:\n",
    "$\\begin{equation}\n",
    " y = G \\ast h + n,  \n",
    "\\end{equation}$\n",
    "where $y$ is the observed galaxy image, $\\ast$ denotes 2D shift-invariant convolution, $h$ is the PSF, and $n$ is the total noise (treated as i.i.d. Gaussian).\n",
    "\n",
    "__TODO 3: Calculate the scaling factor `alpha` using the relation given above. You might need `np.sum()` and `np.sqrt()`.__\n",
    "\n",
    "__TODO 4: Convolve the galaxy image with PSF using the provided function `convolve()` and add Gaussian noise with zero mean and standard deviation of `sigma`.__"
   ]
  },
  {
   "cell_type": "code",
   "execution_count": null,
   "metadata": {},
   "outputs": [],
   "source": [
    "snr_list = [60, 100, 200, 300]\n",
    "obs_list, gt_list = [], []\n",
    "\n",
    "for snr in snr_list:\n",
    "    ### TODO 3: Calculate the scaling factor to meet SNR requirement. ###\n",
    "    alpha = None\n",
    "    ### End TODO 3 ###\n",
    "    g = galaxy * alpha # Scale the flux of galaxy and covert to ADU.\n",
    "    \n",
    "    n = np.random.normal(0, sigma, g.shape) # Gaussian noise.\n",
    "    ### TODO 4: Concolve the scaled galaxy image with the PSF and then add Gaussian noise. ###\n",
    "    y = None\n",
    "    ### End TODO 4 ###\n",
    "    \n",
    "    gt_list.append(g)\n",
    "    obs_list.append(y)"
   ]
  },
  {
   "cell_type": "markdown",
   "metadata": {},
   "source": [
    "### Deconvolution\n",
    "\n",
    "In the final part, you will implement two classic deconvolution methods to remove the blurs caused by PSFs. These methods are [Wiener Filtering ](https://en.wikipedia.org/wiki/Wiener_deconvolution) and [Richardson-Lucy](https://en.wikipedia.org/wiki/Richardson–Lucy_deconvolution), which are both widely used in astronomical image processing. You don't need to learn the two methods to complete this part, this notebook will guide you to implement them."
   ]
  },
  {
   "cell_type": "markdown",
   "metadata": {},
   "source": [
    "**[Wiener Filtering ](https://en.wikipedia.org/wiki/Wiener_deconvolution)** deconvolves the image by filtering in Fourier space:\n",
    "$\\begin{equation} X(f) = \\frac{H^*(f) Y(f)}{\\vert H(f)\\vert^2 + \\lambda}, \\end{equation}$\n",
    "where $Y(f), X(f), H(f)$ are the 2-D Fourier transform of the blurry image, clean image, and PSF, and $\\lambda$ is the regularization parameter.\n",
    "\n",
    "__TODO 5: Complete the numerator and divisor calculations in `wiener()`. You might need `np.abs()`.__"
   ]
  },
  {
   "cell_type": "code",
   "execution_count": null,
   "metadata": {},
   "outputs": [],
   "source": [
    "def wiener(y, h, lam):\n",
    "    \"\"\"Wiener Deconvolution.\n",
    "\n",
    "    Args:\n",
    "        y (`np.ndarray`): Input blurry image.\n",
    "        h (`np.ndarray`): Blur kernel (point spread function).\n",
    "        lam (`float`): Regularization parameter.\n",
    "    \"\"\"\n",
    "    H = fft2(ifftshift(h)) # 2D Fourier Transform of the PSF.\n",
    "    H_star = H.conj() # Complex conjugate of the 2D Fourier Transform of the PSF.\n",
    "    Y = fft2(ifftshift(y)) # 2D Fourier Transform of the blurry image.\n",
    "    ### TODO 5: Complete Wiener Deconvolution. ###\n",
    "    numerator = None\n",
    "    divisor = None\n",
    "    ### End TODO 5 ###\n",
    "    x = fftshift(ifft2(numerator/divisor)).real\n",
    "    return x"
   ]
  },
  {
   "cell_type": "markdown",
   "metadata": {},
   "source": [
    "Visualize the deconvolution results with different values of regularization parameter $\\lambda$. You can also quantitatively compare the image qualities, using two metrics: the [peak signal-to-noise ratio (PSNR)](https://en.wikipedia.org/wiki/Peak_signal-to-noise_ratio) and the [structural similarity index (SSIM)](https://en.wikipedia.org/wiki/Structural_similarity_index_measure). This part is implemented for you."
   ]
  },
  {
   "cell_type": "code",
   "execution_count": null,
   "metadata": {},
   "outputs": [],
   "source": [
    "lam_list = [0.02, 0.05, 0.1, 0.2] # Change to compare different regularization parameters.\n",
    "\n",
    "fig = plt.figure(figsize=(16, 10.5))\n",
    "for idx, (x, y, snr) in enumerate(zip(gt_list, obs_list, snr_list)):\n",
    "    norm = Normalize(vmin=y.min(), vmax=x.max())\n",
    "    ax1 = plt.subplot(4,6,6*idx+1)\n",
    "    plt.imshow(y, cmap='magma', norm=norm)\n",
    "    plt.ylabel(f'SNR = {snr}', fontsize=15)\n",
    "    ax1.set_xticks([])\n",
    "    ax1.set_yticks([])\n",
    "    plt.title('PSNR={:.1f}'.format(psnr(x, y, data_range=x.max()-x.min())), fontsize=11, loc='left', x=0.03, y=0.0, color='white')\n",
    "    plt.title('SSIM={:.2f}'.format(ssim(x, y, data_range=x.max()-x.min())), fontsize=11, loc='right', x=0.5, y=0.84, color='white')\n",
    "    if idx == 0:\n",
    "        plt.title('Observed Galaxy', fontsize=15)\n",
    "    \n",
    "    \n",
    "    for i, lam in enumerate(lam_list):\n",
    "        x_star = wiener(y, psf, lam)\n",
    "        ax2 = plt.subplot(4,6,6*idx+i+2)\n",
    "        plt.imshow(wiener(y, psf, lam), cmap='magma', norm=norm)\n",
    "        ax2.set_xticks([])\n",
    "        ax2.set_yticks([])\n",
    "        plt.title('PSNR={:.1f}'.format(psnr(x, x_star, data_range=x.max()-x.min())), fontsize=11, loc='left', x=0.03, y=0.0, color='white')\n",
    "        plt.title('SSIM={:.2f}'.format(ssim(x, x_star, data_range=x.max()-x.min())), fontsize=11, loc='right', x=0.5, y=0.84, color='white')\n",
    "        if idx == 0:\n",
    "            plt.title('Wiener ($\\lambda=${:.1g})'.format(lam), fontsize=15)\n",
    "        \n",
    "        \n",
    "    ax4 = plt.subplot(4,6,6*idx+6)\n",
    "    plt.imshow(x, cmap='magma', norm=norm)\n",
    "    plt.title('PSNR={:.1f}'.format(psnr(x, x, data_range=x.max()-x.min())), fontsize=11, loc='left', x=0.03, y=0.0, color='white')\n",
    "    plt.title('SSIM={:.2f}'.format(ssim(x, x, data_range=x.max()-x.min())), fontsize=11, loc='right', x=0.5, y=0.84, color='white')\n",
    "    if idx == 0:\n",
    "        plt.title('Ground Truth', fontsize=15)\n",
    "    cax = fig.add_axes([ax2.get_position().x1+0.14, ax2.get_position().y0, 0.01, ax2.get_position().height])\n",
    "    cb = plt.colorbar(cax=cax, norm=norm)\n",
    "    cb.set_label('Flux (e-)', fontsize=14)\n",
    "    ax4.set_xticks([])\n",
    "    ax4.set_yticks([])"
   ]
  },
  {
   "cell_type": "markdown",
   "metadata": {},
   "source": [
    "[**Richardson-Lucy**](https://en.wikipedia.org/wiki/Richardson–Lucy_deconvolution) is an iterative algorithm that solves deconvolution problems under Poisson noise models. First, we initialize the solution with a non-negative image, for example, an all-one image:\n",
    "\n",
    "$\\begin{equation}\n",
    "\\mathbf{x}^0 = \\mathbf{1}.\n",
    "\\end{equation}$\n",
    "\n",
    "Then, we iteratively update $\\mathbf{x}$ using the following equation:\n",
    "$\\begin{equation}\n",
    "\\mathbf{x}^{k+1} = \\mathbf{x}^{k} \\cdot \\frac{H^T \\frac{\\mathbf{y}}{H\\mathbf{x^k}}}{H^T \\mathbf{1}}.\n",
    "\\end{equation}$\n",
    "\n",
    "__TODO 6: Read the code below and complete the Richardson-Lucy update step in `richardson_lucy()`.__"
   ]
  },
  {
   "cell_type": "code",
   "execution_count": null,
   "metadata": {},
   "outputs": [],
   "source": [
    "def richardson_lucy(y, h, sky_level_pixel, n_iter):\n",
    "    \"\"\"Richardson-Lucy Deconvolution.\n",
    "\n",
    "    Args:\n",
    "        y (`np.ndarray`): Input blurry image.\n",
    "        h (`np.ndarray`): Blur kernel (point spread function).\n",
    "        sky_level_pixel (`float`): Sky level (e-/pixel).\n",
    "        n_iter (`int`): Number of iterations.\n",
    "    \"\"\"\n",
    "    y = y + sky_level_pixel # Add the sky level.\n",
    "    ones = np.ones_like(y) # All-one image.\n",
    "    H = fft2(ifftshift(h)) # 2D Fourier Transform of the PSF.\n",
    "    x = np.ones_like(y) # Initial guess.\n",
    "    for _ in range(n_iter):\n",
    "        Hx = fftshift(ifft2(H * fft2(ifftshift(x)))).real\n",
    "        numerator = fftshift(ifft2(H.conj() * fft2(ifftshift(y/Hx)))).real\n",
    "        divisor = fftshift(ifft2(H.conj() * fft2(ifftshift(ones)))).real\n",
    "        ### TODO 6: Complete Richardson-Lucy update. ###\n",
    "        x = None\n",
    "        ### End TODO 6 ###\n",
    "    return x - sky_level_pixel  # Subtract the sky level."
   ]
  },
  {
   "cell_type": "markdown",
   "metadata": {},
   "source": [
    "Visualize the deconvolution results with different iteration count `n_iter`. You can also quantitatively compare the image qualities, using two metrics: the [peak signal-to-noise ratio (PSNR)](https://en.wikipedia.org/wiki/Peak_signal-to-noise_ratio) and the [structural similarity index (SSIM)](https://en.wikipedia.org/wiki/Structural_similarity_index_measure). This part is implemented for you."
   ]
  },
  {
   "cell_type": "code",
   "execution_count": null,
   "metadata": {},
   "outputs": [],
   "source": [
    "iters_list = [10, 20, 30, 50] # Change to compare different iteration counts.\n",
    "\n",
    "fig = plt.figure(figsize=(16, 10.5))\n",
    "for idx, (x, y, snr) in enumerate(zip(gt_list, obs_list, snr_list)):\n",
    "    norm = Normalize(vmin=y.min(), vmax=x.max())\n",
    "    ax1 = plt.subplot(4,6,6*idx+1)\n",
    "    plt.imshow(y, cmap='magma', norm=norm)\n",
    "    plt.ylabel(f'SNR = {snr}', fontsize=15)\n",
    "    ax1.set_xticks([])\n",
    "    ax1.set_yticks([])\n",
    "    plt.title('PSNR={:.1f}'.format(psnr(x, y, data_range=x.max()-x.min())), fontsize=11, loc='left', x=0.03, y=0.0, color='white')\n",
    "    plt.title('SSIM={:.2f}'.format(ssim(x, y, data_range=x.max()-x.min())), fontsize=11, loc='right', x=0.5, y=0.84, color='white')\n",
    "    if idx == 0:\n",
    "        plt.title('Observed Galaxy', fontsize=15)\n",
    "    \n",
    "    \n",
    "    for i, n_iters in enumerate(iters_list):\n",
    "        x_star = richardson_lucy(y, psf, sky_level_pixel, n_iters)\n",
    "        ax2 = plt.subplot(4,6,6*idx+i+2)\n",
    "        plt.imshow(wiener(y, psf, lam), cmap='magma', norm=norm)\n",
    "        ax2.set_xticks([])\n",
    "        ax2.set_yticks([])\n",
    "        plt.title('PSNR={:.1f}'.format(psnr(x, x_star, data_range=x.max()-x.min())), fontsize=11, loc='left', x=0.03, y=0.0, color='white')\n",
    "        plt.title('SSIM={:.2f}'.format(ssim(x, x_star, data_range=x.max()-x.min())), fontsize=11, loc='right', x=0.5, y=0.84, color='white')\n",
    "        if idx == 0:\n",
    "            plt.title(f'Richardson-Lucy ({n_iters})', fontsize=13)\n",
    "        \n",
    "        \n",
    "    ax4 = plt.subplot(4,6,6*idx+6)\n",
    "    plt.imshow(x, cmap='magma', norm=norm)\n",
    "    plt.title('PSNR={:.1f}'.format(psnr(x, x, data_range=x.max()-x.min())), fontsize=11, loc='left', x=0.03, y=0.0, color='white')\n",
    "    plt.title('SSIM={:.2f}'.format(ssim(x, x, data_range=x.max()-x.min())), fontsize=11, loc='right', x=0.5, y=0.84, color='white')\n",
    "    if idx == 0:\n",
    "        plt.title('Ground Truth', fontsize=15)\n",
    "    cax = fig.add_axes([ax2.get_position().x1+0.14, ax2.get_position().y0, 0.01, ax2.get_position().height])\n",
    "    cb = plt.colorbar(cax=cax, norm=norm)\n",
    "    cb.set_label('Flux (e-)', fontsize=14)\n",
    "    ax4.set_xticks([])\n",
    "    ax4.set_yticks([])"
   ]
  },
  {
   "cell_type": "markdown",
   "metadata": {},
   "source": [
    "You can play with the parameters used in both methods to see how they impact the qualities of deconvolve images. Briefly write down your findings here:\n",
    "\n",
    "**[Your Answer Here]**"
   ]
  }
 ],
 "metadata": {
  "kernelspec": {
   "display_name": "astro",
   "language": "python",
   "name": "python3"
  },
  "language_info": {
   "codemirror_mode": {
    "name": "ipython",
    "version": 3
   },
   "file_extension": ".py",
   "mimetype": "text/x-python",
   "name": "python",
   "nbconvert_exporter": "python",
   "pygments_lexer": "ipython3",
   "version": "3.11.9"
  }
 },
 "nbformat": 4,
 "nbformat_minor": 2
}
